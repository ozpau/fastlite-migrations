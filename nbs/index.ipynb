{
 "cells": [
  {
   "cell_type": "markdown",
   "metadata": {},
   "source": [
    "# fastlite-migrations\n",
    "\n",
    "> Simple migrations for fastlite"
   ]
  },
  {
   "cell_type": "markdown",
   "metadata": {},
   "source": [
    "Manage your database migrations with ease."
   ]
  },
  {
   "attachments": {},
   "cell_type": "markdown",
   "metadata": {},
   "source": [
    "## Usage\n",
    "\n",
    "### Installation\n",
    "\n",
    "Install from [pypi][pypi]:\n",
    "\n",
    "```sh\n",
    "$ pip install fastlite_migrations\n",
    "```\n",
    "\n",
    "Or install latest from the GitHub [repository][repo]:\n",
    "\n",
    "```sh\n",
    "$ pip install git+https://github.com/ozpau/fastlite-migrations.git\n",
    "```\n",
    "\n",
    "### Documentation\n",
    "\n",
    "Documentation can be found hosted on this GitHub [repository][repo]'s [pages][docs]. Additionally you can find package manager specific guidelines on [pypi][pypi].\n",
    "\n",
    "[repo]: https://github.com/ozpau/fastlite-migrations\n",
    "[docs]: https://ozpau.github.io/fastlite-migrations/\n",
    "[pypi]: https://pypi.org/project/fastlite-migrations/\n",
    "[conda]: https://anaconda.org/ozpau/fastlite-migrations"
   ]
  },
  {
   "cell_type": "markdown",
   "metadata": {},
   "source": [
    "## How to use"
   ]
  },
  {
   "cell_type": "code",
   "execution_count": null,
   "metadata": {},
   "outputs": [],
   "source": [
    "from fastlite import *\n",
    "from fastlite_migrations import *"
   ]
  },
  {
   "cell_type": "code",
   "execution_count": null,
   "metadata": {},
   "outputs": [],
   "source": [
    "db = database(\":memory:\")"
   ]
  },
  {
   "cell_type": "code",
   "execution_count": null,
   "metadata": {},
   "outputs": [],
   "source": [
    "m = Migrator(db)"
   ]
  },
  {
   "cell_type": "code",
   "execution_count": null,
   "metadata": {},
   "outputs": [],
   "source": [
    "@m.add_migration(0)\n",
    "def initial_db(db): db.q(\"CREATE TABLE users (id INTEGER PRIMARY KEY AUTOINCREMENT)\")\n",
    "\n",
    "@m.add_migration(1)\n",
    "def add_cats(db): db.q(\"CREATE TABLE cats (id INTEGER PRIMARY KEY AUTOINCREMENT)\")\n",
    "\n",
    "@m.add_migration(2)\n",
    "def add_cat_hats_prop(db): db.q(\"ALTER TABLE cats ADD COLUMN hats TEXT\")"
   ]
  },
  {
   "cell_type": "code",
   "execution_count": null,
   "metadata": {},
   "outputs": [
    {
     "name": "stdout",
     "output_type": "stream",
     "text": [
      "0 initial_db\n",
      "1 add_cats\n",
      "2 add_cat_hats_prop\n"
     ]
    }
   ],
   "source": [
    "m.migrate()"
   ]
  },
  {
   "cell_type": "code",
   "execution_count": null,
   "metadata": {},
   "outputs": [],
   "source": [
    "cats = db.t.cats\n",
    "Cat = cats.dataclass()"
   ]
  },
  {
   "cell_type": "code",
   "execution_count": null,
   "metadata": {},
   "outputs": [],
   "source": [
    "hat_types = [\"Top Hat\", \"Baseball Cap\", \"Cowboy Hat\", \"Wizard Hat\", \"Beanie\", \"Pirate Hat\",\n",
    "             \"Sun Hat\", \"Party Hat\", \"Bunny Ears\", \"Chef Hat\", \"Hard Hat\", \"Feathered Hat\",\n",
    "             \"Crown\", \"Sailor Hat\", \"Headband with Flowers\"]"
   ]
  },
  {
   "cell_type": "code",
   "execution_count": null,
   "metadata": {},
   "outputs": [],
   "source": [
    "import random"
   ]
  },
  {
   "cell_type": "code",
   "execution_count": null,
   "metadata": {},
   "outputs": [],
   "source": [
    "for i in range(100):\n",
    "    cats.insert(Cat(i, random.choice(hat_types)))"
   ]
  },
  {
   "cell_type": "code",
   "execution_count": null,
   "metadata": {},
   "outputs": [
    {
     "data": {
      "text/plain": [
       "(#100) [Cats(id=0, hats='Party Hat'),Cats(id=1, hats='Sailor Hat'),Cats(id=2, hats='Crown'),Cats(id=3, hats='Top Hat'),Cats(id=4, hats='Bunny Ears'),Cats(id=5, hats='Feathered Hat'),Cats(id=6, hats='Sun Hat'),Cats(id=7, hats='Crown'),Cats(id=8, hats='Pirate Hat'),Cats(id=9, hats='Headband with Flowers'),Cats(id=10, hats='Bunny Ears'),Cats(id=11, hats='Feathered Hat'),Cats(id=12, hats='Pirate Hat'),Cats(id=13, hats='Chef Hat'),Cats(id=14, hats='Chef Hat'),Cats(id=15, hats='Headband with Flowers'),Cats(id=16, hats='Cowboy Hat'),Cats(id=17, hats='Cowboy Hat'),Cats(id=18, hats='Sun Hat'),Cats(id=19, hats='Pirate Hat')...]"
      ]
     },
     "execution_count": null,
     "metadata": {},
     "output_type": "execute_result"
    }
   ],
   "source": [
    "L(cats())"
   ]
  },
  {
   "cell_type": "markdown",
   "metadata": {},
   "source": [
    "What if we now decide we want to store hat names in a separate table?"
   ]
  },
  {
   "cell_type": "code",
   "execution_count": null,
   "metadata": {},
   "outputs": [],
   "source": [
    "hat_types_zh = [\"高顶帽\", \"棒球帽\", \"牛仔帽\", \"巫师帽\", \"毛线帽\", \"海盗帽\", \"太阳帽\", \"派对帽\",\n",
    "                \"兔耳朵\", \"厨师帽\", \"安全帽\", \"羽毛帽\", \"王冠\", \"水手帽\", \"花头带\"]\n",
    "hat_types_fr = [\"Chapeau haut de forme\", \"Casquette de baseball\", \"Chapeau de cowboy\",\n",
    "                \"Chapeau de sorcier\", \"Bonnet\", \"Chapeau de pirate\", \"Chapeau de soleil\",\n",
    "                \"Chapeau de fête\", \"Oreilles de lapin\", \"Chapeau de chef\", \"Casque de chantier\",\n",
    "                \"Chapeau à plumes\", \"Couronne\", \"Chapeau de marin\", \"Bandeau avec des fleurs\"]\n",
    "hat_prices = [15.99, 10.50, 20.00, 25.00, 8.99, 18.50, 12.00, 5.99, 7.50, 14.99, 22.00, 16.75, 30.00, 11.50, 9.99]"
   ]
  },
  {
   "cell_type": "code",
   "execution_count": null,
   "metadata": {},
   "outputs": [],
   "source": [
    "@m.add_migration(3)\n",
    "def add_hats_table(db):\n",
    "    db.q(\"\"\"\n",
    "CREATE TABLE hats (\n",
    "    id INTEGER PRIMARY KEY AUTOINCREMENT,\n",
    "    name_en TEXT NOT NULL,\n",
    "    name_fr TEXT NOT NULL,\n",
    "    name_zh TEXT NOT NULL,\n",
    "    price INTEGER NOT NULL\n",
    ")\n",
    "    \"\"\")"
   ]
  },
  {
   "cell_type": "markdown",
   "metadata": {},
   "source": [
    "While you work on writing the function above, you can find it convenient to try running migration,\n",
    "and then cancelling it using the rollback function below:"
   ]
  },
  {
   "cell_type": "code",
   "execution_count": null,
   "metadata": {},
   "outputs": [],
   "source": [
    "@m.add_rollback(3)\n",
    "def delete_hats_table(db): db.q(\"DROP TABLE hats\")"
   ]
  },
  {
   "cell_type": "code",
   "execution_count": null,
   "metadata": {},
   "outputs": [
    {
     "name": "stdout",
     "output_type": "stream",
     "text": [
      "3 add_hats_table\n"
     ]
    }
   ],
   "source": [
    "m.migrate()"
   ]
  },
  {
   "cell_type": "code",
   "execution_count": null,
   "metadata": {},
   "outputs": [
    {
     "name": "stdout",
     "output_type": "stream",
     "text": [
      "3 delete_hats_table\n"
     ]
    }
   ],
   "source": [
    "m.rollback()"
   ]
  },
  {
   "cell_type": "markdown",
   "metadata": {},
   "source": [
    "Let's finish writing the migration:"
   ]
  },
  {
   "cell_type": "code",
   "execution_count": null,
   "metadata": {},
   "outputs": [
    {
     "data": {
      "text/plain": [
       "[{'name_en': 'Top Hat',\n",
       "  'name_fr': 'Chapeau haut de forme',\n",
       "  'name_zh': '高顶帽',\n",
       "  'price': 15.99},\n",
       " {'name_en': 'Baseball Cap',\n",
       "  'name_fr': 'Casquette de baseball',\n",
       "  'name_zh': '棒球帽',\n",
       "  'price': 10.5}]"
      ]
     },
     "execution_count": null,
     "metadata": {},
     "output_type": "execute_result"
    }
   ],
   "source": [
    "data = list(map(lambda x: dict(zip(['name_en', 'name_fr', 'name_zh', 'price'], x)), zip(hat_types, hat_types_fr, hat_types_zh, hat_prices)))\n",
    "data[:2]"
   ]
  },
  {
   "cell_type": "code",
   "execution_count": null,
   "metadata": {},
   "outputs": [],
   "source": [
    "@m.add_migration(3)\n",
    "def add_hats_table(db):\n",
    "    db.q(\"\"\"\n",
    "CREATE TABLE hats (\n",
    "    id INTEGER PRIMARY KEY AUTOINCREMENT,\n",
    "    name_en TEXT NOT NULL,\n",
    "    name_fr TEXT NOT NULL,\n",
    "    name_zh TEXT NOT NULL,\n",
    "    price INTEGER NOT NULL\n",
    ")\n",
    "    \"\"\")\n",
    "\n",
    "    db.t.hats.insert_all(data)"
   ]
  },
  {
   "cell_type": "code",
   "execution_count": null,
   "metadata": {},
   "outputs": [
    {
     "name": "stdout",
     "output_type": "stream",
     "text": [
      "3 delete_hats_table\n"
     ]
    }
   ],
   "source": [
    "m.rollback()"
   ]
  },
  {
   "cell_type": "code",
   "execution_count": null,
   "metadata": {},
   "outputs": [
    {
     "name": "stdout",
     "output_type": "stream",
     "text": [
      "3 add_hats_table\n"
     ]
    }
   ],
   "source": [
    "m.migrate()"
   ]
  },
  {
   "cell_type": "code",
   "execution_count": null,
   "metadata": {},
   "outputs": [
    {
     "data": {
      "text/plain": [
       "\u001b[31mSignature:\u001b[39m db.rollback()\n",
       "\u001b[31mDocstring:\u001b[39m Roll back a transaction\n",
       "\u001b[31mFile:\u001b[39m      ~/nbdev/contrib/apswutils/apswutils/db.py\n",
       "\u001b[31mType:\u001b[39m      method"
      ]
     },
     "metadata": {},
     "output_type": "display_data"
    }
   ],
   "source": [
    "db.rollback?"
   ]
  },
  {
   "cell_type": "code",
   "execution_count": null,
   "metadata": {},
   "outputs": [
    {
     "data": {
      "text/plain": [
       "[{'id': 1,\n",
       "  'name_en': 'Top Hat',\n",
       "  'name_fr': 'Chapeau haut de forme',\n",
       "  'name_zh': '高顶帽',\n",
       "  'price': 15.99},\n",
       " {'id': 2,\n",
       "  'name_en': 'Baseball Cap',\n",
       "  'name_fr': 'Casquette de baseball',\n",
       "  'name_zh': '棒球帽',\n",
       "  'price': 10.5},\n",
       " {'id': 3,\n",
       "  'name_en': 'Cowboy Hat',\n",
       "  'name_fr': 'Chapeau de cowboy',\n",
       "  'name_zh': '牛仔帽',\n",
       "  'price': 20},\n",
       " {'id': 4,\n",
       "  'name_en': 'Wizard Hat',\n",
       "  'name_fr': 'Chapeau de sorcier',\n",
       "  'name_zh': '巫师帽',\n",
       "  'price': 25},\n",
       " {'id': 5,\n",
       "  'name_en': 'Beanie',\n",
       "  'name_fr': 'Bonnet',\n",
       "  'name_zh': '毛线帽',\n",
       "  'price': 8.99},\n",
       " {'id': 6,\n",
       "  'name_en': 'Pirate Hat',\n",
       "  'name_fr': 'Chapeau de pirate',\n",
       "  'name_zh': '海盗帽',\n",
       "  'price': 18.5},\n",
       " {'id': 7,\n",
       "  'name_en': 'Sun Hat',\n",
       "  'name_fr': 'Chapeau de soleil',\n",
       "  'name_zh': '太阳帽',\n",
       "  'price': 12},\n",
       " {'id': 8,\n",
       "  'name_en': 'Party Hat',\n",
       "  'name_fr': 'Chapeau de fête',\n",
       "  'name_zh': '派对帽',\n",
       "  'price': 5.99},\n",
       " {'id': 9,\n",
       "  'name_en': 'Bunny Ears',\n",
       "  'name_fr': 'Oreilles de lapin',\n",
       "  'name_zh': '兔耳朵',\n",
       "  'price': 7.5},\n",
       " {'id': 10,\n",
       "  'name_en': 'Chef Hat',\n",
       "  'name_fr': 'Chapeau de chef',\n",
       "  'name_zh': '厨师帽',\n",
       "  'price': 14.99},\n",
       " {'id': 11,\n",
       "  'name_en': 'Hard Hat',\n",
       "  'name_fr': 'Casque de chantier',\n",
       "  'name_zh': '安全帽',\n",
       "  'price': 22},\n",
       " {'id': 12,\n",
       "  'name_en': 'Feathered Hat',\n",
       "  'name_fr': 'Chapeau à plumes',\n",
       "  'name_zh': '羽毛帽',\n",
       "  'price': 16.75},\n",
       " {'id': 13,\n",
       "  'name_en': 'Crown',\n",
       "  'name_fr': 'Couronne',\n",
       "  'name_zh': '王冠',\n",
       "  'price': 30},\n",
       " {'id': 14,\n",
       "  'name_en': 'Sailor Hat',\n",
       "  'name_fr': 'Chapeau de marin',\n",
       "  'name_zh': '水手帽',\n",
       "  'price': 11.5},\n",
       " {'id': 15,\n",
       "  'name_en': 'Headband with Flowers',\n",
       "  'name_fr': 'Bandeau avec des fleurs',\n",
       "  'name_zh': '花头带',\n",
       "  'price': 9.99}]"
      ]
     },
     "execution_count": null,
     "metadata": {},
     "output_type": "execute_result"
    }
   ],
   "source": [
    "db.t.hats()"
   ]
  },
  {
   "cell_type": "markdown",
   "metadata": {},
   "source": [
    "## Developer Guide"
   ]
  },
  {
   "cell_type": "markdown",
   "metadata": {},
   "source": [
    "If you are new to using `nbdev` here are some useful pointers to get you started."
   ]
  },
  {
   "cell_type": "markdown",
   "metadata": {},
   "source": [
    "### Install fastlite_migrations in Development mode"
   ]
  },
  {
   "cell_type": "markdown",
   "metadata": {},
   "source": [
    "```sh\n",
    "# make sure fastlite_migrations package is installed in development mode\n",
    "$ pip install -e .\n",
    "\n",
    "# make changes under nbs/ directory\n",
    "# ...\n",
    "\n",
    "# compile to have changes apply to fastlite_migrations\n",
    "$ nbdev_prepare\n",
    "```"
   ]
  },
  {
   "cell_type": "code",
   "execution_count": null,
   "metadata": {},
   "outputs": [],
   "source": []
  }
 ],
 "metadata": {
  "kernelspec": {
   "display_name": "python3",
   "language": "python",
   "name": "python3"
  }
 },
 "nbformat": 4,
 "nbformat_minor": 4
}
