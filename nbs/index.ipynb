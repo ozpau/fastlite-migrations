{
 "cells": [
  {
   "cell_type": "markdown",
   "metadata": {},
   "source": [
    "# fastlite-migrations\n",
    "\n",
    "> Simple migrations for fastlite"
   ]
  },
  {
   "cell_type": "markdown",
   "metadata": {},
   "source": [
    "Manage your database migrations with ease."
   ]
  },
  {
   "attachments": {},
   "cell_type": "markdown",
   "metadata": {},
   "source": [
    "## Usage\n",
    "\n",
    "### Installation\n",
    "\n",
    "Install from [pypi][pypi]:\n",
    "\n",
    "```sh\n",
    "$ pip install fastlite_migrations\n",
    "```\n",
    "\n",
    "Or install latest from the GitHub [repository][repo]:\n",
    "\n",
    "```sh\n",
    "$ pip install git+https://github.com/ozpau/fastlite-migrations.git\n",
    "```\n",
    "\n",
    "### Documentation\n",
    "\n",
    "Documentation can be found hosted on this GitHub [repository][repo]'s [pages][docs]. Additionally you can find package manager specific guidelines on [pypi][pypi].\n",
    "\n",
    "[repo]: https://github.com/ozpau/fastlite-migrations\n",
    "[docs]: https://ozpau.github.io/fastlite-migrations/\n",
    "[pypi]: https://pypi.org/project/fastlite-migrations/\n",
    "[conda]: https://anaconda.org/ozpau/fastlite-migrations"
   ]
  },
  {
   "cell_type": "markdown",
   "metadata": {},
   "source": [
    "## How to use"
   ]
  },
  {
   "cell_type": "code",
   "execution_count": null,
   "metadata": {},
   "outputs": [],
   "source": [
    "from fastlite import *\n",
    "from fastlite_migrations import *"
   ]
  },
  {
   "cell_type": "code",
   "execution_count": null,
   "metadata": {},
   "outputs": [],
   "source": [
    "db = database(\":memory:\")"
   ]
  },
  {
   "cell_type": "code",
   "execution_count": null,
   "metadata": {},
   "outputs": [],
   "source": [
    "@db.add_migration(0)\n",
    "def initial_db(db): db.q(\"CREATE TABLE users (id INTEGER PRIMARY KEY AUTOINCREMENT)\")\n",
    "\n",
    "@db.add_migration(1)\n",
    "def add_cats(db): db.q(\"CREATE TABLE cats (id INTEGER PRIMARY KEY AUTOINCREMENT)\")\n",
    "\n",
    "@db.add_migration(2)\n",
    "def add_cat_hats_prop(db): db.q(\"ALTER TABLE cats ADD COLUMN hats TEXT\")"
   ]
  },
  {
   "cell_type": "code",
   "execution_count": null,
   "metadata": {},
   "outputs": [
    {
     "name": "stdout",
     "output_type": "stream",
     "text": [
      "0 initial_db\n",
      "1 add_cats\n",
      "2 add_cat_hats_prop\n"
     ]
    }
   ],
   "source": [
    "db.migrate()"
   ]
  },
  {
   "cell_type": "code",
   "execution_count": null,
   "metadata": {},
   "outputs": [],
   "source": [
    "cats = db.t.cats\n",
    "Cat = cats.dataclass()"
   ]
  },
  {
   "cell_type": "code",
   "execution_count": null,
   "metadata": {},
   "outputs": [],
   "source": [
    "hat_types = [\"Top Hat\", \"Baseball Cap\", \"Cowboy Hat\", \"Wizard Hat\", \"Beanie\", \"Pirate Hat\",\n",
    "             \"Sun Hat\", \"Party Hat\", \"Bunny Ears\", \"Chef Hat\", \"Hard Hat\", \"Feathered Hat\",\n",
    "             \"Crown\", \"Sailor Hat\", \"Headband with Flowers\"]"
   ]
  },
  {
   "cell_type": "code",
   "execution_count": null,
   "metadata": {},
   "outputs": [],
   "source": [
    "import random"
   ]
  },
  {
   "cell_type": "code",
   "execution_count": null,
   "metadata": {},
   "outputs": [],
   "source": [
    "for i in range(100):\n",
    "    cats.insert(Cat(i, random.choice(hat_types)))"
   ]
  },
  {
   "cell_type": "code",
   "execution_count": null,
   "metadata": {},
   "outputs": [
    {
     "data": {
      "text/plain": [
       "(#100) [Cats(id=0, hats='Sun Hat'),Cats(id=1, hats='Baseball Cap'),Cats(id=2, hats='Baseball Cap'),Cats(id=3, hats='Sun Hat'),Cats(id=4, hats='Feathered Hat'),Cats(id=5, hats='Sailor Hat'),Cats(id=6, hats='Bunny Ears'),Cats(id=7, hats='Wizard Hat'),Cats(id=8, hats='Cowboy Hat'),Cats(id=9, hats='Sailor Hat'),Cats(id=10, hats='Crown'),Cats(id=11, hats='Top Hat'),Cats(id=12, hats='Sun Hat'),Cats(id=13, hats='Bunny Ears'),Cats(id=14, hats='Beanie'),Cats(id=15, hats='Cowboy Hat'),Cats(id=16, hats='Pirate Hat'),Cats(id=17, hats='Beanie'),Cats(id=18, hats='Top Hat'),Cats(id=19, hats='Sailor Hat')...]"
      ]
     },
     "execution_count": null,
     "metadata": {},
     "output_type": "execute_result"
    }
   ],
   "source": [
    "L(cats())"
   ]
  },
  {
   "cell_type": "markdown",
   "metadata": {},
   "source": [
    "What if we now decide we want to store hat names in a separate table?"
   ]
  },
  {
   "cell_type": "code",
   "execution_count": null,
   "metadata": {},
   "outputs": [],
   "source": [
    "hat_types_zh = [\"高顶帽\", \"棒球帽\", \"牛仔帽\", \"巫师帽\", \"毛线帽\", \"海盗帽\", \"太阳帽\", \"派对帽\",\n",
    "                \"兔耳朵\", \"厨师帽\", \"安全帽\", \"羽毛帽\", \"王冠\", \"水手帽\", \"花头带\"]\n",
    "hat_types_fr = [\"Chapeau haut de forme\", \"Casquette de baseball\", \"Chapeau de cowboy\",\n",
    "                \"Chapeau de sorcier\", \"Bonnet\", \"Chapeau de pirate\", \"Chapeau de soleil\",\n",
    "                \"Chapeau de fête\", \"Oreilles de lapin\", \"Chapeau de chef\", \"Casque de chantier\",\n",
    "                \"Chapeau à plumes\", \"Couronne\", \"Chapeau de marin\", \"Bandeau avec des fleurs\"]\n",
    "hat_prices = [15.99, 10.50, 20.00, 25.00, 8.99, 18.50, 12.00, 5.99, 7.50, 14.99, 22.00, 16.75, 30.00, 11.50, 9.99]"
   ]
  },
  {
   "cell_type": "code",
   "execution_count": null,
   "metadata": {},
   "outputs": [],
   "source": [
    "@db.add_migration(3)\n",
    "def add_hats_table(db):\n",
    "    db.q(\"\"\"\n",
    "CREATE TABLE hats (\n",
    "    id INTEGER PRIMARY KEY AUTOINCREMENT,\n",
    "    name_en TEXT NOT NULL,\n",
    "    name_fr TEXT NOT NULL,\n",
    "    name_zh TEXT NOT NULL,\n",
    "    price INTEGER NOT NULL\n",
    ")\n",
    "    \"\"\")"
   ]
  },
  {
   "cell_type": "markdown",
   "metadata": {},
   "source": [
    "While you work on writing the function above, you can find it convenient to try running migration,\n",
    "and then cancelling it using the rollback function below:"
   ]
  },
  {
   "cell_type": "code",
   "execution_count": null,
   "metadata": {},
   "outputs": [],
   "source": [
    "@db.add_rollback(3)\n",
    "def delete_hats_table(db): db.q(\"DROP TABLE hats\")"
   ]
  },
  {
   "cell_type": "code",
   "execution_count": null,
   "metadata": {},
   "outputs": [
    {
     "name": "stdout",
     "output_type": "stream",
     "text": [
      "3 add_hats_table\n"
     ]
    }
   ],
   "source": [
    "db.migrate()"
   ]
  },
  {
   "cell_type": "code",
   "execution_count": null,
   "metadata": {},
   "outputs": [
    {
     "name": "stdout",
     "output_type": "stream",
     "text": [
      "3 delete_hats_table\n"
     ]
    }
   ],
   "source": [
    "db.rollback_migration()"
   ]
  },
  {
   "cell_type": "markdown",
   "metadata": {},
   "source": [
    "Let's finish writing the migration:"
   ]
  },
  {
   "cell_type": "code",
   "execution_count": null,
   "metadata": {},
   "outputs": [
    {
     "data": {
      "text/plain": [
       "[{'id': 0,\n",
       "  'name_en': 'Top Hat',\n",
       "  'name_fr': 'Chapeau haut de forme',\n",
       "  'name_zh': '高顶帽',\n",
       "  'price': 15.99},\n",
       " {'id': 1,\n",
       "  'name_en': 'Baseball Cap',\n",
       "  'name_fr': 'Casquette de baseball',\n",
       "  'name_zh': '棒球帽',\n",
       "  'price': 10.5}]"
      ]
     },
     "execution_count": null,
     "metadata": {},
     "output_type": "execute_result"
    }
   ],
   "source": [
    "data = list(map(lambda x: dict(zip(['id', 'name_en', 'name_fr', 'name_zh', 'price'], x)),\n",
    "                zip(range(len(hat_types)), hat_types, hat_types_fr, hat_types_zh, hat_prices)))\n",
    "data[:2]"
   ]
  },
  {
   "cell_type": "code",
   "execution_count": null,
   "metadata": {},
   "outputs": [],
   "source": [
    "@db.add_migration(3)\n",
    "def add_hats_table(db):\n",
    "    db.q(\"\"\"\n",
    "CREATE TABLE hats (\n",
    "    id INTEGER PRIMARY KEY AUTOINCREMENT,\n",
    "    name_en TEXT NOT NULL,\n",
    "    name_fr TEXT NOT NULL,\n",
    "    name_zh TEXT NOT NULL,\n",
    "    price INTEGER NOT NULL\n",
    ")\n",
    "    \"\"\")\n",
    "\n",
    "    db.t.hats.insert_all(data)"
   ]
  },
  {
   "cell_type": "code",
   "execution_count": null,
   "metadata": {},
   "outputs": [
    {
     "name": "stdout",
     "output_type": "stream",
     "text": [
      "No rollback for the latest applied migration found: Migrations(id=2, name='add_cat_hats_prop', inserted_at='2025-03-09 18:56:25')\n"
     ]
    }
   ],
   "source": [
    "db.rollback_migration()"
   ]
  },
  {
   "cell_type": "code",
   "execution_count": null,
   "metadata": {},
   "outputs": [
    {
     "name": "stdout",
     "output_type": "stream",
     "text": [
      "3 add_hats_table\n"
     ]
    }
   ],
   "source": [
    "db.migrate()"
   ]
  },
  {
   "cell_type": "code",
   "execution_count": null,
   "metadata": {},
   "outputs": [
    {
     "data": {
      "text/plain": [
       "[{'id': 0,\n",
       "  'name_en': 'Top Hat',\n",
       "  'name_fr': 'Chapeau haut de forme',\n",
       "  'name_zh': '高顶帽',\n",
       "  'price': 15.99},\n",
       " {'id': 1,\n",
       "  'name_en': 'Baseball Cap',\n",
       "  'name_fr': 'Casquette de baseball',\n",
       "  'name_zh': '棒球帽',\n",
       "  'price': 10.5}]"
      ]
     },
     "execution_count": null,
     "metadata": {},
     "output_type": "execute_result"
    }
   ],
   "source": [
    "db.t.hats()[:2]"
   ]
  },
  {
   "cell_type": "markdown",
   "metadata": {},
   "source": [
    "Now that we have a table of hats, let's connect table of cats to it."
   ]
  },
  {
   "cell_type": "code",
   "execution_count": null,
   "metadata": {},
   "outputs": [
    {
     "data": {
      "text/plain": [
       "[Cats(id=0, hats='Sun Hat'), Cats(id=1, hats='Baseball Cap')]"
      ]
     },
     "execution_count": null,
     "metadata": {},
     "output_type": "execute_result"
    }
   ],
   "source": [
    "db.t.cats()[:2]"
   ]
  },
  {
   "cell_type": "markdown",
   "metadata": {},
   "source": [
    "Let's write a migration to change `hats` column to a foreign key that points to `hats` table. We can do this in one transaction."
   ]
  },
  {
   "cell_type": "code",
   "execution_count": null,
   "metadata": {},
   "outputs": [
    {
     "name": "stdout",
     "output_type": "stream",
     "text": [
      "3 delete_hats_table\n"
     ]
    }
   ],
   "source": [
    "db.rollback_migration()"
   ]
  },
  {
   "cell_type": "code",
   "execution_count": null,
   "metadata": {},
   "outputs": [],
   "source": [
    "@db.add_migration(3)\n",
    "def add_hats_table(db):\n",
    "    db.q(\"\"\"\n",
    "CREATE TABLE hats (\n",
    "    id INTEGER PRIMARY KEY AUTOINCREMENT,\n",
    "    name_en TEXT NOT NULL,\n",
    "    name_fr TEXT NOT NULL,\n",
    "    name_zh TEXT NOT NULL,\n",
    "    price INTEGER NOT NULL\n",
    ")\n",
    "    \"\"\")\n",
    "\n",
    "    db.t.hats.insert_all(data)\n",
    "\n",
    "    db.q(\"\"\"\n",
    "ALTER TABLE cats ADD COLUMN hat_id INTEGER;\n",
    "UPDATE cats SET hat_id = (SELECT id FROM hats WHERE hats.name_en = cats.hats);\n",
    "    \"\"\")\n",
    "    "
   ]
  },
  {
   "cell_type": "code",
   "execution_count": null,
   "metadata": {},
   "outputs": [],
   "source": [
    "@db.add_rollback(3)\n",
    "def delete_hats_table(db):\n",
    "    db.q(\"\"\"\n",
    "    ALTER TABLE cats DROP COLUMN hat_id;\n",
    "    DROP TABLE hats;\n",
    "    \"\"\")"
   ]
  },
  {
   "cell_type": "code",
   "execution_count": null,
   "metadata": {},
   "outputs": [
    {
     "name": "stdout",
     "output_type": "stream",
     "text": [
      "3 add_hats_table\n"
     ]
    }
   ],
   "source": [
    "db.migrate()"
   ]
  },
  {
   "cell_type": "markdown",
   "metadata": {},
   "source": [
    "We added a column, so we need to recreate `Cat` class:"
   ]
  },
  {
   "cell_type": "code",
   "execution_count": null,
   "metadata": {},
   "outputs": [],
   "source": [
    "Cat = db.t.cats.dataclass()"
   ]
  },
  {
   "cell_type": "markdown",
   "metadata": {},
   "source": [
    "As you can see, at this point we have `hat_id`s set properly:"
   ]
  },
  {
   "cell_type": "code",
   "execution_count": null,
   "metadata": {},
   "outputs": [
    {
     "data": {
      "text/plain": [
       "[(Cats(id=0, hats='Sun Hat', hat_id=6), 'Sun Hat'),\n",
       " (Cats(id=1, hats='Baseball Cap', hat_id=1), 'Baseball Cap')]"
      ]
     },
     "execution_count": null,
     "metadata": {},
     "output_type": "execute_result"
    }
   ],
   "source": [
    "list(zip(db.t.cats(), map(lambda x: hat_types[x.hat_id], db.t.cats())))[:2]"
   ]
  },
  {
   "cell_type": "markdown",
   "metadata": {},
   "source": [
    "If we are planning to execute this migration in production, and we require zero\n",
    "downtime, you'd need to do some extra work with the controller side of your application."
   ]
  },
  {
   "cell_type": "markdown",
   "metadata": {},
   "source": [
    "But if downtime is ok, we can just update our code to use `hat_id` instead of `hats`, and apply the migration.\n",
    "\n",
    "Now let's add foreign key constraint."
   ]
  },
  {
   "cell_type": "markdown",
   "metadata": {},
   "source": [
    "There is a slight issue with foreign key constraint: SQLite doesn't allow modifying foreign key constraints after the table is created.\n",
    "So if we need to change these, we have to create a new table from scratch and copy all the data.\n",
    "\n",
    "For more info on the issue, see https://www.sqlite.org/lang_altertable.html#otheralter"
   ]
  },
  {
   "cell_type": "markdown",
   "metadata": {},
   "source": [
    "Following the guide, let's first obtain sql to create original table:"
   ]
  },
  {
   "cell_type": "code",
   "execution_count": null,
   "metadata": {},
   "outputs": [
    {
     "data": {
      "text/plain": [
       "[{'type': 'table',\n",
       "  'sql': 'CREATE TABLE cats (id INTEGER PRIMARY KEY AUTOINCREMENT, hats TEXT, hat_id INTEGER)'}]"
      ]
     },
     "execution_count": null,
     "metadata": {},
     "output_type": "execute_result"
    }
   ],
   "source": [
    "db.q(\"\"\"\n",
    " SELECT type, sql FROM sqlite_schema WHERE tbl_name='cats'\n",
    "\"\"\")"
   ]
  },
  {
   "cell_type": "code",
   "execution_count": null,
   "metadata": {},
   "outputs": [],
   "source": [
    "@db.add_migration(3)\n",
    "def add_hats_table(db):\n",
    "    db.q(\"\"\"\n",
    "CREATE TABLE hats (\n",
    "    id INTEGER PRIMARY KEY AUTOINCREMENT,\n",
    "    name_en TEXT NOT NULL,\n",
    "    name_fr TEXT NOT NULL,\n",
    "    name_zh TEXT NOT NULL,\n",
    "    price INTEGER NOT NULL\n",
    ")\n",
    "    \"\"\")\n",
    "\n",
    "    db.t.hats.insert_all(data)\n",
    "\n",
    "    db.q(\"\"\"\n",
    "ALTER TABLE cats ADD COLUMN hat_id INTEGER;\n",
    "UPDATE cats SET hat_id = (SELECT id FROM hats WHERE hats.name_en = cats.hats);\n",
    "\n",
    "CREATE TABLE cats_new (\n",
    "    id INTEGER PRIMARY KEY AUTOINCREMENT,\n",
    "    hat_id INTEGER,\n",
    "    FOREIGN KEY (hat_id) REFERENCES hats(id)\n",
    ");\n",
    "INSERT INTO cats_new SELECT id, hat_id FROM cats;\n",
    "DROP TABLE cats;\n",
    "ALTER TABLE cats_new RENAME TO cats;\n",
    "    \"\"\")\n",
    "    "
   ]
  },
  {
   "cell_type": "code",
   "execution_count": null,
   "metadata": {},
   "outputs": [
    {
     "name": "stdout",
     "output_type": "stream",
     "text": [
      "3 delete_hats_table\n"
     ]
    }
   ],
   "source": [
    "db.rollback_migration()"
   ]
  },
  {
   "cell_type": "code",
   "execution_count": null,
   "metadata": {},
   "outputs": [
    {
     "name": "stdout",
     "output_type": "stream",
     "text": [
      "3 add_hats_table\n"
     ]
    }
   ],
   "source": [
    "db.migrate()"
   ]
  },
  {
   "cell_type": "code",
   "execution_count": null,
   "metadata": {},
   "outputs": [
    {
     "data": {
      "text/plain": [
       "cats, hats, migrations, users"
      ]
     },
     "execution_count": null,
     "metadata": {},
     "output_type": "execute_result"
    }
   ],
   "source": [
    "db.t"
   ]
  },
  {
   "cell_type": "markdown",
   "metadata": {},
   "source": [
    "Great! Finally we have moved hats from cats!"
   ]
  },
  {
   "cell_type": "code",
   "execution_count": null,
   "metadata": {},
   "outputs": [
    {
     "data": {
      "image/svg+xml": [
       "<?xml version=\"1.0\" encoding=\"UTF-8\" standalone=\"no\"?>\n",
       "<!DOCTYPE svg PUBLIC \"-//W3C//DTD SVG 1.1//EN\"\n",
       " \"http://www.w3.org/Graphics/SVG/1.1/DTD/svg11.dtd\">\n",
       "<!-- Generated by graphviz version 2.43.0 (0)\n",
       " -->\n",
       "<!-- Title: G Pages: 1 -->\n",
       "<svg width=\"502pt\" height=\"355pt\"\n",
       " viewBox=\"0.00 0.00 502.29 354.50\" xmlns=\"http://www.w3.org/2000/svg\" xmlns:xlink=\"http://www.w3.org/1999/xlink\">\n",
       "<g id=\"graph0\" class=\"graph\" transform=\"scale(1 1) rotate(0) translate(4 350.5)\">\n",
       "<title>G</title>\n",
       "<polygon fill=\"white\" stroke=\"transparent\" points=\"-4,4 -4,-350.5 498.29,-350.5 498.29,4 -4,4\"/>\n",
       "<!-- migrations -->\n",
       "<g id=\"node1\" class=\"node\">\n",
       "<title>migrations</title>\n",
       "<polygon fill=\"lightgray\" stroke=\"transparent\" points=\"87.29,-68 87.29,-89 174.29,-89 174.29,-68 87.29,-68\"/>\n",
       "<polygon fill=\"none\" stroke=\"black\" points=\"87.29,-68 87.29,-89 174.29,-89 174.29,-68 87.29,-68\"/>\n",
       "<text text-anchor=\"start\" x=\"91.79\" y=\"-74.8\" font-family=\"Times,serif\" font-size=\"14.00\">migrations</text>\n",
       "<polygon fill=\"#ffebcd\" stroke=\"transparent\" points=\"87.29,-47 87.29,-68 174.29,-68 174.29,-47 87.29,-47\"/>\n",
       "<polygon fill=\"none\" stroke=\"black\" points=\"87.29,-47 87.29,-68 174.29,-68 174.29,-47 87.29,-47\"/>\n",
       "<text text-anchor=\"start\" x=\"112.79\" y=\"-53.8\" font-family=\"Times,serif\" font-size=\"14.00\">id 🔑</text>\n",
       "<polygon fill=\"none\" stroke=\"black\" points=\"87.29,-26 87.29,-47 174.29,-47 174.29,-26 87.29,-26\"/>\n",
       "<text text-anchor=\"start\" x=\"110.79\" y=\"-32.8\" font-family=\"Times,serif\" font-size=\"14.00\">name</text>\n",
       "<polygon fill=\"none\" stroke=\"black\" points=\"87.29,-5 87.29,-26 174.29,-26 174.29,-5 87.29,-5\"/>\n",
       "<text text-anchor=\"start\" x=\"90.29\" y=\"-11.8\" font-family=\"Times,serif\" font-size=\"14.00\">inserted_at</text>\n",
       "<polygon fill=\"none\" stroke=\"black\" points=\"85.79,-4 85.79,-90 174.79,-90 174.79,-4 85.79,-4\"/>\n",
       "</g>\n",
       "<!-- users -->\n",
       "<g id=\"node2\" class=\"node\">\n",
       "<title>users</title>\n",
       "<polygon fill=\"lightgray\" stroke=\"transparent\" points=\"107.29,-138 107.29,-159 153.29,-159 153.29,-138 107.29,-138\"/>\n",
       "<polygon fill=\"none\" stroke=\"black\" points=\"107.29,-138 107.29,-159 153.29,-159 153.29,-138 107.29,-138\"/>\n",
       "<text text-anchor=\"start\" x=\"110.29\" y=\"-144.8\" font-family=\"Times,serif\" font-size=\"14.00\">users</text>\n",
       "<polygon fill=\"#ffebcd\" stroke=\"transparent\" points=\"107.29,-117 107.29,-138 153.29,-138 153.29,-117 107.29,-117\"/>\n",
       "<polygon fill=\"none\" stroke=\"black\" points=\"107.29,-117 107.29,-138 153.29,-138 153.29,-117 107.29,-117\"/>\n",
       "<text text-anchor=\"start\" x=\"112.29\" y=\"-123.8\" font-family=\"Times,serif\" font-size=\"14.00\">id 🔑</text>\n",
       "<polygon fill=\"none\" stroke=\"black\" points=\"106.29,-116 106.29,-160 154.29,-160 154.29,-116 106.29,-116\"/>\n",
       "</g>\n",
       "<!-- sqlite_sequence -->\n",
       "<g id=\"node3\" class=\"node\">\n",
       "<title>sqlite_sequence</title>\n",
       "<polygon fill=\"lightgray\" stroke=\"transparent\" points=\"70.29,-229 70.29,-250 190.29,-250 190.29,-229 70.29,-229\"/>\n",
       "<polygon fill=\"none\" stroke=\"black\" points=\"70.29,-229 70.29,-250 190.29,-250 190.29,-229 70.29,-229\"/>\n",
       "<text text-anchor=\"start\" x=\"73.29\" y=\"-235.8\" font-family=\"Times,serif\" font-size=\"14.00\">sqlite_sequence</text>\n",
       "<polygon fill=\"none\" stroke=\"black\" points=\"70.29,-208 70.29,-229 190.29,-229 190.29,-208 70.29,-208\"/>\n",
       "<text text-anchor=\"start\" x=\"110.29\" y=\"-214.8\" font-family=\"Times,serif\" font-size=\"14.00\">name</text>\n",
       "<polygon fill=\"none\" stroke=\"black\" points=\"70.29,-187 70.29,-208 190.29,-208 190.29,-187 70.29,-187\"/>\n",
       "<text text-anchor=\"start\" x=\"117.79\" y=\"-193.8\" font-family=\"Times,serif\" font-size=\"14.00\">seq</text>\n",
       "<polygon fill=\"none\" stroke=\"black\" points=\"69.29,-186.5 69.29,-251.5 191.29,-251.5 191.29,-186.5 69.29,-186.5\"/>\n",
       "</g>\n",
       "<!-- hats -->\n",
       "<g id=\"node4\" class=\"node\">\n",
       "<title>hats</title>\n",
       "<polygon fill=\"lightgray\" stroke=\"transparent\" points=\"376.29,-298 376.29,-319 446.29,-319 446.29,-298 376.29,-298\"/>\n",
       "<polygon fill=\"none\" stroke=\"black\" points=\"376.29,-298 376.29,-319 446.29,-319 446.29,-298 376.29,-298\"/>\n",
       "<text text-anchor=\"start\" x=\"395.79\" y=\"-304.8\" font-family=\"Times,serif\" font-size=\"14.00\">hats</text>\n",
       "<polygon fill=\"#ffebcd\" stroke=\"transparent\" points=\"376.29,-277 376.29,-298 446.29,-298 446.29,-277 376.29,-277\"/>\n",
       "<polygon fill=\"none\" stroke=\"black\" points=\"376.29,-277 376.29,-298 446.29,-298 446.29,-277 376.29,-277\"/>\n",
       "<text text-anchor=\"start\" x=\"393.29\" y=\"-283.8\" font-family=\"Times,serif\" font-size=\"14.00\">id 🔑</text>\n",
       "<polygon fill=\"none\" stroke=\"black\" points=\"376.29,-256 376.29,-277 446.29,-277 446.29,-256 376.29,-256\"/>\n",
       "<text text-anchor=\"start\" x=\"379.29\" y=\"-262.8\" font-family=\"Times,serif\" font-size=\"14.00\">name_en</text>\n",
       "<polygon fill=\"none\" stroke=\"black\" points=\"376.29,-235 376.29,-256 446.29,-256 446.29,-235 376.29,-235\"/>\n",
       "<text text-anchor=\"start\" x=\"382.29\" y=\"-241.8\" font-family=\"Times,serif\" font-size=\"14.00\">name_fr</text>\n",
       "<polygon fill=\"none\" stroke=\"black\" points=\"376.29,-214 376.29,-235 446.29,-235 446.29,-214 376.29,-214\"/>\n",
       "<text text-anchor=\"start\" x=\"379.79\" y=\"-220.8\" font-family=\"Times,serif\" font-size=\"14.00\">name_zh</text>\n",
       "<polygon fill=\"none\" stroke=\"black\" points=\"376.29,-193 376.29,-214 446.29,-214 446.29,-193 376.29,-193\"/>\n",
       "<text text-anchor=\"start\" x=\"392.79\" y=\"-199.8\" font-family=\"Times,serif\" font-size=\"14.00\">price</text>\n",
       "<polygon fill=\"none\" stroke=\"black\" points=\"375.29,-192 375.29,-320 447.29,-320 447.29,-192 375.29,-192\"/>\n",
       "</g>\n",
       "<!-- cats -->\n",
       "<g id=\"node5\" class=\"node\">\n",
       "<title>cats</title>\n",
       "<polygon fill=\"lightgray\" stroke=\"transparent\" points=\"105.29,-320 105.29,-341 155.29,-341 155.29,-320 105.29,-320\"/>\n",
       "<polygon fill=\"none\" stroke=\"black\" points=\"105.29,-320 105.29,-341 155.29,-341 155.29,-320 105.29,-320\"/>\n",
       "<text text-anchor=\"start\" x=\"115.29\" y=\"-326.8\" font-family=\"Times,serif\" font-size=\"14.00\">cats</text>\n",
       "<polygon fill=\"#ffebcd\" stroke=\"transparent\" points=\"105.29,-299 105.29,-320 155.29,-320 155.29,-299 105.29,-299\"/>\n",
       "<polygon fill=\"none\" stroke=\"black\" points=\"105.29,-299 105.29,-320 155.29,-320 155.29,-299 105.29,-299\"/>\n",
       "<text text-anchor=\"start\" x=\"112.29\" y=\"-305.8\" font-family=\"Times,serif\" font-size=\"14.00\">id 🔑</text>\n",
       "<polygon fill=\"none\" stroke=\"black\" points=\"105.29,-278 105.29,-299 155.29,-299 155.29,-278 105.29,-278\"/>\n",
       "<text text-anchor=\"start\" x=\"108.29\" y=\"-284.8\" font-family=\"Times,serif\" font-size=\"14.00\">hat_id</text>\n",
       "<polygon fill=\"none\" stroke=\"black\" points=\"104.29,-277.5 104.29,-342.5 156.29,-342.5 156.29,-277.5 104.29,-277.5\"/>\n",
       "</g>\n",
       "<!-- cats&#45;&gt;hats -->\n",
       "<g id=\"edge1\" class=\"edge\">\n",
       "<title>cats:hat_id&#45;&gt;hats:id</title>\n",
       "<path fill=\"none\" stroke=\"black\" d=\"M156.29,-288C250.2,-288 276.15,-288 365.28,-288\"/>\n",
       "<polygon fill=\"black\" stroke=\"black\" points=\"365.29,-291.5 375.29,-288 365.29,-284.5 365.29,-291.5\"/>\n",
       "</g>\n",
       "</g>\n",
       "</svg>\n"
      ],
      "text/plain": [
       "<graphviz.sources.Source>"
      ]
     },
     "execution_count": null,
     "metadata": {},
     "output_type": "execute_result"
    }
   ],
   "source": [
    "diagram(db.tables)"
   ]
  },
  {
   "cell_type": "code",
   "execution_count": null,
   "metadata": {},
   "outputs": [],
   "source": [
    "cats, hats = db.t.cats, db.t.hats\n",
    "Cat, Hat = cats.dataclass(), hats.dataclass()"
   ]
  },
  {
   "cell_type": "code",
   "execution_count": null,
   "metadata": {},
   "outputs": [
    {
     "data": {
      "text/plain": [
       "([Cats(id=0, hat_id=6), Cats(id=1, hat_id=1)],\n",
       " [Hats(id=0, name_en='Top Hat', name_fr='Chapeau haut de forme', name_zh='高顶帽', price=15.99),\n",
       "  Hats(id=1, name_en='Baseball Cap', name_fr='Casquette de baseball', name_zh='棒球帽', price=10.5)])"
      ]
     },
     "execution_count": null,
     "metadata": {},
     "output_type": "execute_result"
    }
   ],
   "source": [
    "cats()[:2], hats()[:2]"
   ]
  },
  {
   "cell_type": "markdown",
   "metadata": {},
   "source": [
    "Now each cat doesn't have all information about its head stored inside it, but we can run a query to retrieve this information as needed:"
   ]
  },
  {
   "cell_type": "code",
   "execution_count": null,
   "metadata": {},
   "outputs": [
    {
     "data": {
      "text/plain": [
       "[{'id': 0, 'hat_id': 6, 'hat_name': 'Top Hat', 'hat_price': 15.99},\n",
       " {'id': 0, 'hat_id': 6, 'hat_name': 'Baseball Cap', 'hat_price': 10.5}]"
      ]
     },
     "execution_count": null,
     "metadata": {},
     "output_type": "execute_result"
    }
   ],
   "source": [
    "db.q(\"SELECT cats.*, hats.name_en hat_name, hats.price hat_price FROM cats JOIN hats\")[:2]"
   ]
  },
  {
   "cell_type": "markdown",
   "metadata": {},
   "source": [
    "## Developer Guide"
   ]
  },
  {
   "cell_type": "markdown",
   "metadata": {},
   "source": [
    "If you are new to using `nbdev` here are some useful pointers to get you started."
   ]
  },
  {
   "cell_type": "markdown",
   "metadata": {},
   "source": [
    "### Install fastlite_migrations in Development mode"
   ]
  },
  {
   "cell_type": "markdown",
   "metadata": {},
   "source": [
    "```sh\n",
    "# make sure fastlite_migrations package is installed in development mode\n",
    "$ pip install -e .\n",
    "\n",
    "# make changes under nbs/ directory\n",
    "# ...\n",
    "\n",
    "# compile to have changes apply to fastlite_migrations\n",
    "$ nbdev_prepare\n",
    "```"
   ]
  },
  {
   "cell_type": "code",
   "execution_count": null,
   "metadata": {},
   "outputs": [],
   "source": []
  }
 ],
 "metadata": {
  "kernelspec": {
   "display_name": "python3",
   "language": "python",
   "name": "python3"
  }
 },
 "nbformat": 4,
 "nbformat_minor": 4
}
