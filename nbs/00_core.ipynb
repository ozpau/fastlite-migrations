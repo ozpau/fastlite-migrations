{
 "cells": [
  {
   "cell_type": "markdown",
   "metadata": {},
   "source": [
    "# core\n",
    "\n",
    "> Core migrator code"
   ]
  },
  {
   "cell_type": "code",
   "execution_count": null,
   "metadata": {},
   "outputs": [],
   "source": [
    "#| default_exp core"
   ]
  },
  {
   "cell_type": "code",
   "execution_count": null,
   "metadata": {},
   "outputs": [],
   "source": [
    "#| hide\n",
    "from nbdev.showdoc import *"
   ]
  },
  {
   "cell_type": "code",
   "execution_count": null,
   "metadata": {},
   "outputs": [],
   "source": [
    "#| export\n",
    "from fastlite import *\n",
    "from apswutils.db import Database\n",
    "import fastlite.kw"
   ]
  },
  {
   "cell_type": "code",
   "execution_count": null,
   "metadata": {},
   "outputs": [],
   "source": [
    "db = database(\":memory:\")"
   ]
  },
  {
   "cell_type": "markdown",
   "metadata": {},
   "source": [
    "Migrator class adds a `migrations` table to your database that allows you to keep track of your database schema changes:"
   ]
  },
  {
   "cell_type": "code",
   "execution_count": null,
   "metadata": {},
   "outputs": [],
   "source": [
    "#| export\n",
    "class Migrator():\n",
    "    def __init__(self, db):\n",
    "        self.migrations, self.rollbacks, self.db = dict(), dict(), db\n",
    "        db.execute(\"\"\"\n",
    "        CREATE TABLE IF NOT EXISTS migrations (\n",
    "            id INTEGER PRIMARY KEY, name TEXT, inserted_at TEXT DEFAULT CURRENT_TIMESTAMP NOT NULL\n",
    "        ) STRICT;\n",
    "        \"\"\")\n",
    "        self.Migration = db.t.migrations.dataclass()\n",
    "        self.db_migrations = db.t.migrations"
   ]
  },
  {
   "cell_type": "code",
   "execution_count": null,
   "metadata": {},
   "outputs": [
    {
     "data": {
      "text/plain": [
       "migrations"
      ]
     },
     "execution_count": null,
     "metadata": {},
     "output_type": "execute_result"
    }
   ],
   "source": [
    "Migrator(db)\n",
    "db.t"
   ]
  },
  {
   "cell_type": "code",
   "execution_count": null,
   "metadata": {},
   "outputs": [],
   "source": [
    "assert len(list(db.t)) == 1"
   ]
  },
  {
   "cell_type": "code",
   "execution_count": null,
   "metadata": {},
   "outputs": [],
   "source": [
    "#| export\n",
    "@patch\n",
    "def add_migration(self: Migrator, migration_id:int):\n",
    "    assert type(migration_id) is int, \"migration_id must be an integer\"\n",
    "    def decorator(migration:callable):\n",
    "        assert callable(migration), \"migration must be a callable\"\n",
    "        self.migrations[migration_id] = migration\n",
    "    return decorator\n",
    "\n",
    "@patch\n",
    "def add_rollback(self: Migrator, rollback_id:int):\n",
    "    assert type(rollback_id) is int, \"rollback_id must be an integer\"\n",
    "    def decorator(rollback:callable):\n",
    "        assert callable(rollback), \"migration must be a callable\"\n",
    "        self.rollbacks[rollback_id] = rollback\n",
    "    return decorator"
   ]
  },
  {
   "cell_type": "code",
   "execution_count": null,
   "metadata": {},
   "outputs": [],
   "source": [
    "#| export\n",
    "@patch\n",
    "def migrate(self: Migrator):\n",
    "    # TODO: make sure ids are in sequence\n",
    "    for id, migration in sorted(self.migrations.items()):\n",
    "        if id in self.db.t.migrations:\n",
    "            continue\n",
    "        print(id, migration.__name__)\n",
    "        self.db_migrations.insert(self.Migration(id=id, name=migration.__name__))\n",
    "        migration(self.db)"
   ]
  },
  {
   "cell_type": "code",
   "execution_count": null,
   "metadata": {},
   "outputs": [],
   "source": [
    "#| export\n",
    "@patch\n",
    "def last_applied_migration(self: Migrator):\n",
    "    return self.db_migrations('id = (SELECT MAX(id) FROM migrations)')[0]"
   ]
  },
  {
   "cell_type": "code",
   "execution_count": null,
   "metadata": {},
   "outputs": [],
   "source": [
    "#| export\n",
    "@patch\n",
    "def applied_migrations(self: Migrator):\n",
    "    return self.db_migrations()"
   ]
  },
  {
   "cell_type": "code",
   "execution_count": null,
   "metadata": {},
   "outputs": [],
   "source": [
    "#| export\n",
    "@patch\n",
    "def rollback(self: Migrator):\n",
    "    latest_migration = self.last_applied_migration()\n",
    "    last_id = latest_migration.id\n",
    "    if last_id not in self.rollbacks:\n",
    "        print(f\"No rollback for the latest applied migration found: {latest_migration}\")\n",
    "        return\n",
    "\n",
    "    rollback = self.rollbacks[last_id]\n",
    "    print(last_id, rollback.__name__)\n",
    "\n",
    "    rollback(self.db)\n",
    "    self.db_migrations.delete(last_id)"
   ]
  },
  {
   "cell_type": "markdown",
   "metadata": {},
   "source": [
    "Add migrations by decorating your functions like so:"
   ]
  },
  {
   "cell_type": "code",
   "execution_count": null,
   "metadata": {},
   "outputs": [],
   "source": [
    "m = Migrator(db)\n",
    "\n",
    "@m.add_migration(0)\n",
    "def init_db(db): db.q(\"CREATE TABLE cats (name PRIMARY KEY)\")\n",
    "\n",
    "@m.add_migration(1)\n",
    "def add_dogs(db): db.q(\"CREATE TABLE dogs (name PRIMARY KEY)\")"
   ]
  },
  {
   "cell_type": "markdown",
   "metadata": {},
   "source": [
    "Running `m.migrate` would apply these migrations in order of `migrations_id`."
   ]
  },
  {
   "cell_type": "code",
   "execution_count": null,
   "metadata": {},
   "outputs": [
    {
     "name": "stdout",
     "output_type": "stream",
     "text": [
      "0 init_db\n",
      "1 add_dogs\n"
     ]
    }
   ],
   "source": [
    "m.migrate()"
   ]
  },
  {
   "cell_type": "code",
   "execution_count": null,
   "metadata": {},
   "outputs": [
    {
     "data": {
      "text/plain": [
       "cats, dogs, migrations"
      ]
     },
     "execution_count": null,
     "metadata": {},
     "output_type": "execute_result"
    }
   ],
   "source": [
    "db.t"
   ]
  },
  {
   "cell_type": "code",
   "execution_count": null,
   "metadata": {},
   "outputs": [],
   "source": [
    "#| hide\n",
    "assert len(list(db.t)) == 3"
   ]
  },
  {
   "cell_type": "markdown",
   "metadata": {},
   "source": [
    "Running it again does nothing:"
   ]
  },
  {
   "cell_type": "code",
   "execution_count": null,
   "metadata": {},
   "outputs": [],
   "source": [
    "m.migrate()"
   ]
  },
  {
   "cell_type": "markdown",
   "metadata": {},
   "source": [
    "What if you realize there is something wrong with the last migration? You can write a rollback function to fix it!\n",
    "Make sure `rollback_id` matches corresponding `migration_id`"
   ]
  },
  {
   "cell_type": "code",
   "execution_count": null,
   "metadata": {},
   "outputs": [],
   "source": [
    "@m.add_rollback(1)\n",
    "def remove_dogs(db): db.q(\"DROP TABLE dogs\")"
   ]
  },
  {
   "cell_type": "code",
   "execution_count": null,
   "metadata": {},
   "outputs": [
    {
     "data": {
      "text/plain": [
       "[Migrations(id=0, name='init_db', inserted_at='2025-03-09 17:06:45'),\n",
       " Migrations(id=1, name='add_dogs', inserted_at='2025-03-09 17:06:45')]"
      ]
     },
     "execution_count": null,
     "metadata": {},
     "output_type": "execute_result"
    }
   ],
   "source": [
    "m.applied_migrations()"
   ]
  },
  {
   "cell_type": "code",
   "execution_count": null,
   "metadata": {},
   "outputs": [
    {
     "data": {
      "text/plain": [
       "Migrations(id=1, name='add_dogs', inserted_at='2025-03-09 17:06:45')"
      ]
     },
     "execution_count": null,
     "metadata": {},
     "output_type": "execute_result"
    }
   ],
   "source": [
    "m.last_applied_migration()"
   ]
  },
  {
   "cell_type": "code",
   "execution_count": null,
   "metadata": {},
   "outputs": [
    {
     "name": "stdout",
     "output_type": "stream",
     "text": [
      "1 remove_dogs\n"
     ]
    }
   ],
   "source": [
    "m.rollback()"
   ]
  },
  {
   "cell_type": "code",
   "execution_count": null,
   "metadata": {},
   "outputs": [
    {
     "data": {
      "text/plain": [
       "[Migrations(id=0, name='init_db', inserted_at='2025-03-09 17:06:45')]"
      ]
     },
     "execution_count": null,
     "metadata": {},
     "output_type": "execute_result"
    }
   ],
   "source": [
    "m.applied_migrations()"
   ]
  },
  {
   "cell_type": "code",
   "execution_count": null,
   "metadata": {},
   "outputs": [
    {
     "data": {
      "text/plain": [
       "cats, migrations"
      ]
     },
     "execution_count": null,
     "metadata": {},
     "output_type": "execute_result"
    }
   ],
   "source": [
    "db.t"
   ]
  },
  {
   "cell_type": "code",
   "execution_count": null,
   "metadata": {},
   "outputs": [],
   "source": [
    "assert len(m.applied_migrations()) == 1\n",
    "assert len(list(db.t)) == 2"
   ]
  },
  {
   "cell_type": "markdown",
   "metadata": {},
   "source": [
    "## Patch database directly\n",
    "\n",
    "For simpler API, let's patch add everything directly to `database`!"
   ]
  },
  {
   "cell_type": "code",
   "execution_count": null,
   "metadata": {},
   "outputs": [],
   "source": [
    "#| export\n",
    "_orig_database = database"
   ]
  },
  {
   "cell_type": "code",
   "execution_count": null,
   "metadata": {},
   "outputs": [],
   "source": [
    "#| export\n",
    "def database(path, wal=True):\n",
    "    db = _orig_database(path, wal)\n",
    "    db.migrator = Migrator(db)\n",
    "    # Avoid name collision with transaction rollback\n",
    "    db.rollback_migration = db.migrator.rollback\n",
    "\n",
    "    # Everything else is ok to copy automatically\n",
    "    #names = [x for x in dir(Migrator) if \"__\" not in x and \"rollback\" not in x] + [\"add_rollback\"]    \n",
    "    db.add_migration = db.migrator.add_migration\n",
    "    db.add_rollback = db.migrator.add_rollback\n",
    "    db.applied_migrations = db.migrator.applied_migrations\n",
    "    db.last_applied_migration = db.migrator.last_applied_migration\n",
    "    db.migrate = db.migrator.migrate\n",
    "\n",
    "    return db"
   ]
  },
  {
   "cell_type": "code",
   "execution_count": null,
   "metadata": {},
   "outputs": [],
   "source": [
    "db = database(\":memory:\")"
   ]
  },
  {
   "cell_type": "code",
   "execution_count": null,
   "metadata": {},
   "outputs": [],
   "source": [
    "@db.add_migration(0)\n",
    "def init_db(db): db.q(\"CREATE TABLE cats (name PRIMARY KEY)\")"
   ]
  },
  {
   "cell_type": "code",
   "execution_count": null,
   "metadata": {},
   "outputs": [
    {
     "name": "stdout",
     "output_type": "stream",
     "text": [
      "0 init_db\n"
     ]
    }
   ],
   "source": [
    "db.migrate()"
   ]
  },
  {
   "cell_type": "code",
   "execution_count": null,
   "metadata": {},
   "outputs": [
    {
     "name": "stdout",
     "output_type": "stream",
     "text": [
      "No rollback for the latest applied migration found: Migrations(id=0, name='init_db', inserted_at='2025-03-09 17:48:14')\n"
     ]
    }
   ],
   "source": [
    "db.rollback_migration()"
   ]
  },
  {
   "cell_type": "code",
   "execution_count": null,
   "metadata": {},
   "outputs": [],
   "source": [
    "#| hide\n",
    "import nbdev; nbdev.nbdev_export()"
   ]
  },
  {
   "cell_type": "code",
   "execution_count": null,
   "metadata": {},
   "outputs": [],
   "source": []
  }
 ],
 "metadata": {
  "kernelspec": {
   "display_name": "python3",
   "language": "python",
   "name": "python3"
  }
 },
 "nbformat": 4,
 "nbformat_minor": 4
}
